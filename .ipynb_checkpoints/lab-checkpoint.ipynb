{
 "cells": [
  {
   "cell_type": "code",
   "execution_count": 1,
   "metadata": {},
   "outputs": [
    {
     "name": "stderr",
     "output_type": "stream",
     "text": [
      "Using TensorFlow backend.\n"
     ]
    }
   ],
   "source": [
    "from PIL import Image\n",
    "import numpy as np\n",
    "from keras.models import Sequential\n",
    "from keras.layers import Dense\n",
    "from matplotlib.image import imread\n",
    "import matplotlib.pyplot as plt\n",
    "import imageio\n",
    "import math"
   ]
  },
  {
   "cell_type": "code",
   "execution_count": 3,
   "metadata": {},
   "outputs": [],
   "source": [
    "def getRGB(rgb_img, size):\n",
    "    r = []\n",
    "    g = []\n",
    "    b = []\n",
    "    for y in range(size[1]):\n",
    "        for x in range(size[0]):\n",
    "            current_r, current_g, current_b = rgb_img.getpixel((x, y))\n",
    "            r.append(current_r)\n",
    "            g.append(current_g)\n",
    "            b.append(current_b)\n",
    "\n",
    "    return r, g, b"
   ]
  },
  {
   "cell_type": "code",
   "execution_count": 4,
   "metadata": {},
   "outputs": [],
   "source": [
    "def setRGB(rgb, size):\n",
    "    num_pixels = size[0] * size[1]\n",
    "    r = []\n",
    "    g = []\n",
    "    b = []\n",
    "    for i in range(num_pixels * 3):\n",
    "        if i < num_pixels:\n",
    "            r.append(rgb[i])\n",
    "        elif i < num_pixels * 2:\n",
    "            g.append(rgb[i])\n",
    "        else:\n",
    "            b.append(rgb[i])\n",
    "    tmp_img = Image.new('RGB', size)\n",
    "    for y in range(size[1]):\n",
    "        for x in range(size[0]):\n",
    "            current_r = r[x + (y * size[0])]\n",
    "            current_g = g[x + (y * size[0])]\n",
    "            current_b = b[x + (y * size[0])]\n",
    "            tmp_img.putpixel((x,y ), (current_r, current_g, current_b))\n",
    "\n",
    "    return tmp_img\n"
   ]
  },
  {
   "cell_type": "code",
   "execution_count": 11,
   "metadata": {},
   "outputs": [],
   "source": [
    "img = Image.open('pepega.jpg')\n",
    "img_x = img.resize([70, 70])\n",
    "size_x = img_x.size\n",
    "\n",
    "r, g, b = getRGB(img_x, size_x)\n",
    "rg = np.hstack((r, g))\n",
    "rgb = np.hstack((rg, b))  \n",
    "# input_x = (2 * rgb / 255) - 1\n",
    "input_x = rgb / 255\n",
    "# input_x = np.vstack((input_x, (2 * rgb / 255) - 1))\n",
    "input_x = np.vstack((input_x, rgb / 255))\n",
    "\n",
    "w = size_x[0]\n",
    "h = size_x[1]\n",
    "n = 4\n",
    "m = 3\n",
    "\n",
    "L = (math.ceil(h/n) * math.ceil(w/m))\n",
    "\n",
    "img_y = img.resize([math.ceil(h/n), math.ceil(w/m)])\n",
    "size_y = img_y.size\n",
    "\n",
    "r, g, b = getRGB(img_y, size_y)\n",
    "rg = np.hstack((r, g))\n",
    "rgb = np.hstack((rg, b))  \n",
    "# input_x = (2 * rgb / 255) - 1\n",
    "output_y = (rgb / 255)\n",
    "output_y = np.vstack((output_y, rgb / 255))\n",
    "\n",
    "dim_x = input_x.shape[1]\n",
    "\n",
    "\n"
   ]
  },
  {
   "cell_type": "code",
   "execution_count": 12,
   "metadata": {},
   "outputs": [
    {
     "name": "stdout",
     "output_type": "stream",
     "text": [
      "Epoch 1/10\n",
      "2/2 [==============================] - 2s 1s/step - loss: 0.7800\n",
      "Epoch 2/10\n",
      "2/2 [==============================] - 1s 365ms/step - loss: 0.4358\n",
      "Epoch 3/10\n",
      "2/2 [==============================] - 1s 376ms/step - loss: 0.4856\n",
      "Epoch 4/10\n",
      "2/2 [==============================] - 1s 360ms/step - loss: 0.3495\n",
      "Epoch 5/10\n",
      "2/2 [==============================] - 1s 357ms/step - loss: 0.3537\n",
      "Epoch 6/10\n",
      "2/2 [==============================] - 1s 354ms/step - loss: 0.2812\n",
      "Epoch 7/10\n",
      "2/2 [==============================] - 1s 425ms/step - loss: 0.2894\n",
      "Epoch 8/10\n",
      "2/2 [==============================] - 1s 380ms/step - loss: 0.2550\n",
      "Epoch 9/10\n",
      "2/2 [==============================] - 1s 368ms/step - loss: 0.2463\n",
      "Epoch 10/10\n",
      "2/2 [==============================] - 1s 372ms/step - loss: 0.2268\n",
      "Epoch 1/10\n",
      "2/2 [==============================] - 2s 907ms/step - loss: 0.5869\n",
      "Epoch 2/10\n",
      "2/2 [==============================] - 1s 394ms/step - loss: 0.2651\n",
      "Epoch 3/10\n",
      "2/2 [==============================] - 1s 384ms/step - loss: 0.1823\n",
      "Epoch 4/10\n",
      "2/2 [==============================] - 1s 377ms/step - loss: 0.1650\n",
      "Epoch 5/10\n",
      "2/2 [==============================] - 1s 376ms/step - loss: 0.1598\n",
      "Epoch 6/10\n",
      "2/2 [==============================] - 1s 369ms/step - loss: 0.1577\n",
      "Epoch 7/10\n",
      "2/2 [==============================] - 1s 361ms/step - loss: 0.1569\n",
      "Epoch 8/10\n",
      "2/2 [==============================] - 1s 351ms/step - loss: 0.1562\n",
      "Epoch 9/10\n",
      "2/2 [==============================] - 1s 371ms/step - loss: 0.1553\n",
      "Epoch 10/10\n",
      "2/2 [==============================] - 1s 350ms/step - loss: 0.1545\n"
     ]
    },
    {
     "data": {
      "text/plain": [
       "<keras.callbacks.History at 0x21870f63a48>"
      ]
     },
     "execution_count": 12,
     "metadata": {},
     "output_type": "execute_result"
    }
   ],
   "source": [
    "model_first = Sequential()\n",
    "model_first.add(Dense(L*3, activation='sigmoid', input_dim=dim_x))\n",
    "# model_first.add(Dense(dim_x, activation='sigmoid'))\n",
    "model_first.compile(optimizer='adam', loss='binary_crossentropy')\n",
    "\n",
    "model_second = Sequential()\n",
    "model_second.add(Dense(dim_x, activation='sigmoid', input_dim=L*3))\n",
    "# model_second.add(Dense(dim_x, activation='sigmoid'))\n",
    "model_second.compile(optimizer='adam', loss='binary_crossentropy')\n",
    "\n",
    "model_first.fit(input_x, output_y, epochs=10, batch_size=1)\n",
    "model_second.fit(output_y, input_x, epochs=10, batch_size=1)\n"
   ]
  },
  {
   "cell_type": "code",
   "execution_count": 13,
   "metadata": {},
   "outputs": [],
   "source": [
    "pred_first = model_first.predict(input_x)    \n",
    "pred_first_rgb = pred_first[0]\n",
    "pred_first_rgb = pred_first_rgb * 255\n",
    "new_img_first = setRGB(pred_first_rgb, size_y)\n",
    "\n",
    "pred_second = model_second.predict(output_y)    \n",
    "pred_second_rgb = pred_second[0]\n",
    "pred_second_rgb = pred_second_rgb * 255\n",
    "new_img_second = setRGB(pred_second_rgb, size_x)"
   ]
  },
  {
   "cell_type": "code",
   "execution_count": 14,
   "metadata": {},
   "outputs": [
    {
     "data": {
      "image/png": "[encoded data removed]",
      "text/plain": [
       "<Figure size 432x288 with 1 Axes>"
      ]
     },
     "metadata": {
      "needs_background": "light"
     },
     "output_type": "display_data"
    },
    {
     "data": {
      "image/png": "[encoded data removed]",
      "text/plain": [
       "<Figure size 432x288 with 1 Axes>"
      ]
     },
     "metadata": {
      "needs_background": "light"
     },
     "output_type": "display_data"
    },
    {
     "data": {
      "image/png": "[encoded data removed]",
      "text/plain": [
       "<Figure size 432x288 with 1 Axes>"
      ]
     },
     "metadata": {
      "needs_background": "light"
     },
     "output_type": "display_data"
    }
   ],
   "source": [
    "plt.imshow(img_x)\n",
    "plt.show()\n",
    "plt.imshow(new_img_first)\n",
    "plt.show()\n",
    "plt.imshow(new_img_second)\n",
    "plt.show()"
   ]
  },
  {
   "cell_type": "code",
   "execution_count": null,
   "metadata": {},
   "outputs": [],
   "source": []
  }
 ],
 "metadata": {
  "kernelspec": {
   "display_name": "Python 3",
   "language": "python",
   "name": "python3"
  },
  "language_info": {
   "codemirror_mode": {
    "name": "ipython",
    "version": 3
   },
   "file_extension": ".py",
   "mimetype": "text/x-python",
   "name": "python",
   "nbconvert_exporter": "python",
   "pygments_lexer": "ipython3",
   "version": "3.7.4"
  }
 },
 "nbformat": 4,
 "nbformat_minor": 2
}
