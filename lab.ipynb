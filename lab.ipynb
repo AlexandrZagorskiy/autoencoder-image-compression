{
 "cells": [
  {
   "cell_type": "code",
   "execution_count": 1,
   "metadata": {},
   "outputs": [
    {
     "name": "stderr",
     "output_type": "stream",
     "text": [
      "Using TensorFlow backend.\n"
     ]
    }
   ],
   "source": [
    "from PIL import Image\n",
    "import numpy as np\n",
    "from keras.models import Sequential\n",
    "from keras.layers import Dense\n",
    "from matplotlib.image import imread\n",
    "import matplotlib.pyplot as plt\n",
    "import imageio\n",
    "import math"
   ]
  },
  {
   "cell_type": "code",
   "execution_count": 2,
   "metadata": {},
   "outputs": [],
   "source": [
    "def getRGB(rgb_img, size):\n",
    "    r = []\n",
    "    g = []\n",
    "    b = []\n",
    "    for y in range(size[1]):\n",
    "        for x in range(size[0]):\n",
    "            current_r, current_g, current_b = rgb_img.getpixel((x, y))\n",
    "            r.append(current_r)\n",
    "            g.append(current_g)\n",
    "            b.append(current_b)\n",
    "\n",
    "    return r, g, b"
   ]
  },
  {
   "cell_type": "code",
   "execution_count": 3,
   "metadata": {},
   "outputs": [],
   "source": [
    "def setRGB(rgb, size):\n",
    "    num_pixels = size[0] * size[1]\n",
    "    r = []\n",
    "    g = []\n",
    "    b = []\n",
    "    for i in range(num_pixels * 3):\n",
    "        if i < num_pixels:\n",
    "            r.append(rgb[i])\n",
    "        elif i < num_pixels * 2:\n",
    "            g.append(rgb[i])\n",
    "        else:\n",
    "            b.append(rgb[i])\n",
    "    tmp_img = Image.new('RGB', size)\n",
    "    for y in range(size[1]):\n",
    "        for x in range(size[0]):\n",
    "            current_r = r[x + (y * size[0])]\n",
    "            current_g = g[x + (y * size[0])]\n",
    "            current_b = b[x + (y * size[0])]\n",
    "            tmp_img.putpixel((x,y ), (current_r, current_g, current_b))\n",
    "\n",
    "    return tmp_img\n"
   ]
  },
  {
   "cell_type": "code",
   "execution_count": 4,
   "metadata": {},
   "outputs": [],
   "source": [
    "img = Image.open('pepega.jpg')\n",
    "img_x = img.resize([120, 120])\n",
    "size_x = img_x.size\n",
    "\n",
    "r, g, b = getRGB(img_x, size_x)\n",
    "rg = np.hstack((r, g))\n",
    "rgb = np.hstack((rg, b))  \n",
    "# input_x = (2 * rgb / 255) - 1\n",
    "input_x = rgb / 255\n",
    "# input_x = np.vstack((input_x, (2 * rgb / 255) - 1))\n",
    "input_x = np.vstack((input_x, rgb / 255))\n",
    "\n",
    "w = size_x[0]\n",
    "h = size_x[1]\n",
    "n = 3\n",
    "m = 3\n",
    "\n",
    "L = (math.ceil(h/n) * math.ceil(w/m))\n",
    "\n",
    "img_y = img.resize([math.ceil(h/n), math.ceil(w/m)])\n",
    "size_y = img_y.size\n",
    "\n",
    "r, g, b = getRGB(img_y, size_y)\n",
    "rg = np.hstack((r, g))\n",
    "rgb = np.hstack((rg, b))  \n",
    "# input_x = (2 * rgb / 255) - 1\n",
    "output_y = (rgb / 255)\n",
    "output_y = np.vstack((output_y, rgb / 255))\n",
    "\n",
    "dim_x = input_x.shape[1]\n",
    "\n",
    "\n"
   ]
  },
  {
   "cell_type": "code",
   "execution_count": null,
   "metadata": {},
   "outputs": [
    {
     "name": "stderr",
     "output_type": "stream",
     "text": [
      "WARNING: Logging before flag parsing goes to stderr.\n",
      "W1007 22:24:25.474250  2816 deprecation_wrapper.py:119] From d:\\programs\\python\\lib\\site-packages\\keras\\backend\\tensorflow_backend.py:74: The name tf.get_default_graph is deprecated. Please use tf.compat.v1.get_default_graph instead.\n",
      "\n",
      "W1007 22:24:25.503247  2816 deprecation_wrapper.py:119] From d:\\programs\\python\\lib\\site-packages\\keras\\backend\\tensorflow_backend.py:517: The name tf.placeholder is deprecated. Please use tf.compat.v1.placeholder instead.\n",
      "\n",
      "W1007 22:24:25.509247  2816 deprecation_wrapper.py:119] From d:\\programs\\python\\lib\\site-packages\\keras\\backend\\tensorflow_backend.py:4138: The name tf.random_uniform is deprecated. Please use tf.random.uniform instead.\n",
      "\n",
      "W1007 22:24:25.542245  2816 deprecation_wrapper.py:119] From d:\\programs\\python\\lib\\site-packages\\keras\\optimizers.py:790: The name tf.train.Optimizer is deprecated. Please use tf.compat.v1.train.Optimizer instead.\n",
      "\n",
      "W1007 22:24:25.583243  2816 deprecation_wrapper.py:119] From d:\\programs\\python\\lib\\site-packages\\keras\\backend\\tensorflow_backend.py:3376: The name tf.log is deprecated. Please use tf.math.log instead.\n",
      "\n",
      "W1007 22:24:25.591251  2816 deprecation.py:323] From d:\\programs\\python\\lib\\site-packages\\tensorflow\\python\\ops\\nn_impl.py:180: add_dispatch_support.<locals>.wrapper (from tensorflow.python.ops.array_ops) is deprecated and will be removed in a future version.\n",
      "Instructions for updating:\n",
      "Use tf.where in 2.0, which has the same broadcast rule as np.where\n",
      "W1007 22:24:25.950251  2816 deprecation_wrapper.py:119] From d:\\programs\\python\\lib\\site-packages\\keras\\backend\\tensorflow_backend.py:986: The name tf.assign_add is deprecated. Please use tf.compat.v1.assign_add instead.\n",
      "\n"
     ]
    },
    {
     "name": "stdout",
     "output_type": "stream",
     "text": [
      "Epoch 1/10\n"
     ]
    }
   ],
   "source": [
    "model_first = Sequential()\n",
    "model_first.add(Dense(L*3, activation='sigmoid', input_dim=dim_x))\n",
    "# model_first.add(Dense(dim_x, activation='sigmoid'))\n",
    "model_first.compile(optimizer='adam', loss='binary_crossentropy')\n",
    "\n",
    "model_second = Sequential()\n",
    "model_second.add(Dense(dim_x, activation='sigmoid', input_dim=L*3))\n",
    "# model_second.add(Dense(dim_x, activation='sigmoid'))\n",
    "model_second.compile(optimizer='adam', loss='binary_crossentropy')\n",
    "\n",
    "model_first.fit(input_x, output_y, epochs=10, batch_size=1)\n",
    "model_second.fit(output_y, input_x, epochs=10, batch_size=1)\n"
   ]
  },
  {
   "cell_type": "code",
   "execution_count": null,
   "metadata": {},
   "outputs": [],
   "source": [
    "pred_first = model_first.predict(input_x)    \n",
    "pred_first_rgb = pred_first[0]\n",
    "pred_first_rgb = pred_first_rgb * 255\n",
    "new_img_first = setRGB(pred_first_rgb, size_y)\n",
    "\n",
    "pred_second = model_second.predict(output_y)    \n",
    "pred_second_rgb = pred_second[0]\n",
    "pred_second_rgb = pred_second_rgb * 255\n",
    "new_img_second = setRGB(pred_second_rgb, size_x)"
   ]
  },
  {
   "cell_type": "code",
   "execution_count": null,
   "metadata": {},
   "outputs": [],
   "source": [
    "plt.imshow(img_x)\n",
    "plt.show()\n",
    "plt.imshow(new_img_first)\n",
    "plt.show()\n",
    "plt.imshow(new_img_second)\n",
    "plt.show()"
   ]
  },
  {
   "cell_type": "code",
   "execution_count": null,
   "metadata": {},
   "outputs": [],
   "source": []
  }
 ],
 "metadata": {
  "kernelspec": {
   "display_name": "Python 3",
   "language": "python",
   "name": "python3"
  },
  "language_info": {
   "codemirror_mode": {
    "name": "ipython",
    "version": 3
   },
   "file_extension": ".py",
   "mimetype": "text/x-python",
   "name": "python",
   "nbconvert_exporter": "python",
   "pygments_lexer": "ipython3",
   "version": "3.7.4"
  }
 },
 "nbformat": 4,
 "nbformat_minor": 2
}
